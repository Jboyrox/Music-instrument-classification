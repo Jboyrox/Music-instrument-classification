{
  "cells": [
    {
      "cell_type": "markdown",
      "metadata": {
        "id": "QZtOHxBsnLaC"
      },
      "source": [
        "# Lab:  Neural Networks for Music Classification\n",
        "\n",
        "In addition to the concepts in the [MNIST neural network demo](./demo2_mnist_neural.ipynb), in this lab, you will learn to:\n",
        "* Load a file from a URL\n",
        "* Extract simple features from audio samples for machine learning tasks such as speech recognition and classification\n",
        "* Build a simple neural network for music classification using these features\n",
        "* Use a callback to store the loss and accuracy history in the training process\n",
        "* Optimize the learning rate of the neural network\n",
        "\n",
        "To illustrate the basic concepts, we will look at a relatively simple music classification problem.  Given a sample of music, we want to determine which instrument (e.g. trumpet, violin, piano) is playing.  This dataset was generously supplied by [Prof. Juan Bello](http://steinhardt.nyu.edu/faculty/Juan_Pablo_Bello) at NYU Stenihardt  and his former PhD student Eric Humphrey (now at Spotify).  They have a complete website dedicated to deep learning methods in music informatics:\n",
        "\n",
        "http://marl.smusic.nyu.edu/wordpress/projects/feature-learning-deep-architectures/deep-learning-python-tutorial/\n",
        "\n",
        "You can also check out Juan's <a href=\"http://www.nyu.edu/classes/bello/ACA.html\">course</a>.\n",
        "\n"
      ]
    },
    {
      "cell_type": "markdown",
      "metadata": {
        "id": "2rY6KjuenLaE"
      },
      "source": [
        "## Loading Tensorflow\n",
        "\n",
        "Before starting this lab, you will need to install [Tensorflow](https://www.tensorflow.org/install/).  If you are using [Google colaboratory](https://colab.research.google.com), Tensorflow is already installed.  Run the following command to ensure Tensorflow is installed."
      ]
    },
    {
      "cell_type": "code",
      "execution_count": 1,
      "metadata": {
        "id": "Y4fOj8b7nLaE"
      },
      "outputs": [],
      "source": [
        "import tensorflow as tf"
      ]
    },
    {
      "cell_type": "markdown",
      "metadata": {
        "id": "8elMCGKwnLaF"
      },
      "source": [
        "Then, load the other packages."
      ]
    },
    {
      "cell_type": "code",
      "execution_count": 2,
      "metadata": {
        "id": "HXeCsubxnLaF"
      },
      "outputs": [],
      "source": [
        "import numpy as np\n",
        "import matplotlib\n",
        "import matplotlib.pyplot as plt"
      ]
    },
    {
      "cell_type": "markdown",
      "metadata": {
        "id": "F39r9QGFnLaF"
      },
      "source": [
        "## Audio Feature Extraction with Librosa\n",
        "\n",
        "The key to audio classification is to extract the correct features. In addition to `keras`, we will need the `librosa` package.  The `librosa` package in python has a rich set of methods extracting the features of audio samples commonly used in machine learning tasks such as speech recognition and sound classification. \n",
        "\n",
        "Installation instructions and complete documentation for the package are given on the [librosa main page](https://librosa.github.io/librosa/).  On most systems, you should be able to simply use:\n",
        "\n",
        "    pip install librosa\n",
        "    \n",
        "For Unix, you may need to load some additional packages:\n",
        "\n",
        "    sudo apt-get install build-essential\n",
        "    sudo apt-get install libxext-dev python-qt4 qt4-dev-tools\n",
        "    pip install librosa\n",
        "    \n",
        "After you have installed the package, try to import it."
      ]
    },
    {
      "cell_type": "code",
      "execution_count": 3,
      "metadata": {
        "id": "bubltc3qnLaF"
      },
      "outputs": [],
      "source": [
        "import librosa\n",
        "import librosa.display\n",
        "import librosa.feature"
      ]
    },
    {
      "cell_type": "markdown",
      "metadata": {
        "id": "HBaJ8GYunLaG"
      },
      "source": [
        "In this lab, we will use a set of music samples from the website:\n",
        "\n",
        "http://theremin.music.uiowa.edu\n",
        "\n",
        "This website has a great set of samples for audio processing.  Look on the web for how to use the `requests.get` and `file.write` commands to load the file at the URL provided into your working directory.\n",
        "\n",
        "You can play the audio sample by copying the file to your local machine and playing it on any media player.  If you listen to it you will hear a soprano saxaphone (with vibrato) playing four notes (C, C#, D, Eb)."
      ]
    },
    {
      "cell_type": "code",
      "execution_count": 4,
      "metadata": {
        "id": "WuOXQvtqnLaG"
      },
      "outputs": [],
      "source": [
        "import requests\n",
        "fn = \"SopSax.Vib.pp.C6Eb6.aiff\"\n",
        "url = \"http://theremin.music.uiowa.edu/sound files/MIS/Woodwinds/sopranosaxophone/\"+fn\n",
        "\n",
        "# TODO 1:  Load the file from url and save it in a file under the name fn\n",
        "r = requests.get(url)\n",
        "with open(fn, 'wb') as f:\n",
        "    f.write(r.content)"
      ]
    },
    {
      "cell_type": "markdown",
      "metadata": {
        "id": "IcNA_nZunLaG"
      },
      "source": [
        "Next, use `librosa` command `librosa.load` to read the audio file with filename `fn` and get the samples `y` and sample rate `sr`."
      ]
    },
    {
      "cell_type": "code",
      "execution_count": 5,
      "metadata": {
        "colab": {
          "base_uri": "https://localhost:8080/"
        },
        "id": "PYCH9S1gnLaG",
        "outputId": "317d549b-6f4a-4f3d-a660-12f2860b7cf9"
      },
      "outputs": [
        {
          "output_type": "stream",
          "name": "stdout",
          "text": [
            "[ 0.          0.          0.         ... -0.00370146 -0.00433821\n",
            "  0.        ]\n",
            "22050\n"
          ]
        }
      ],
      "source": [
        "# TODO 2\n",
        "# y, sr = ...\n",
        "#filename = librosa.example(\"SopSax.Vib.pp.C6Eb6.aiff\")\n",
        "y,sr=librosa.load(\"SopSax.Vib.pp.C6Eb6.aiff\")\n",
        "print(y)\n",
        "print(sr)"
      ]
    },
    {
      "cell_type": "markdown",
      "metadata": {
        "id": "8SHgvqTfnLaG"
      },
      "source": [
        "Extracting features from audio files is an entire subject on its own right.  A commonly used set of features are called the Mel Frequency Cepstral Coefficients (MFCCs).  These are derived from the so-called mel spectrogram which is something like a regular spectrogram, but the power and frequency are represented in log scale, which more naturally aligns with human perceptual processing.  You can run the code below to display the mel spectrogram from the audio sample.\n",
        "\n",
        "You can easily see the four notes played in the audio track.  You also see the 'harmonics' of each notes, which are other tones at integer multiples of the fundamental frequency of each note."
      ]
    },
    {
      "cell_type": "code",
      "execution_count": 6,
      "metadata": {
        "colab": {
          "base_uri": "https://localhost:8080/",
          "height": 297
        },
        "id": "kAAO7xQxnLaH",
        "outputId": "961fe320-2a92-4342-f397-f02f3b696a9d"
      },
      "outputs": [
        {
          "output_type": "display_data",
          "data": {
            "text/plain": [
              "<Figure size 432x288 with 2 Axes>"
            ],
            "image/png": "[encoded data removed]"
          },
          "metadata": {
            "needs_background": "light"
          }
        }
      ],
      "source": [
        "S = librosa.feature.melspectrogram(y=y, sr=sr, n_mels=128, fmax=8000)\n",
        "librosa.display.specshow(librosa.amplitude_to_db(S),\n",
        "                         y_axis='mel', fmax=8000, x_axis='time')\n",
        "plt.colorbar(format='%+2.0f dB')\n",
        "plt.title('Mel spectrogram')\n",
        "plt.tight_layout()"
      ]
    },
    {
      "cell_type": "markdown",
      "metadata": {
        "id": "efLfzjQ1nLaH"
      },
      "source": [
        "## Downloading the Data\n",
        "\n",
        "Using the MFCC features described above, Eric Humphrey and Juan Bellow have created a complete data set that can used for instrument classification.  Essentially, they collected a number of data files from the website above.  For each audio file, the segmented the track into notes and then extracted 120 MFCCs for each note.  The goal is to recognize the instrument from the 120 MFCCs.  The process of feature extraction is quite involved.  So, we will just use their processed data provided at:\n",
        "\n",
        "https://github.com/marl/dl4mir-tutorial/blob/master/README.md\n",
        "\n",
        "Note the password.  Load the four files into some directory, say  `instrument_dataset`.  Then, load them with the commands."
      ]
    },
    {
      "cell_type": "code",
      "execution_count": 7,
      "metadata": {
        "id": "CRFCuMRwnLaH"
      },
      "outputs": [],
      "source": [
        "data_dir = 'instrument_dataset/'\n",
        "Xtr = np.load(data_dir+'uiowa_train_data.npy')\n",
        "ytr = np.load(data_dir+'uiowa_train_labels.npy')\n",
        "Xts = np.load(data_dir+'uiowa_test_data.npy')\n",
        "yts = np.load(data_dir+'uiowa_test_labels.npy')"
      ]
    },
    {
      "cell_type": "markdown",
      "source": [
        "# New Section"
      ],
      "metadata": {
        "id": "kMw2dLEnwQaS"
      }
    },
    {
      "cell_type": "markdown",
      "metadata": {
        "id": "TA-uHfitnLaH"
      },
      "source": [
        "Looking at the data files:\n",
        "* What are the number of training and test samples?\n",
        "* What is the number of features for each sample?\n",
        "* How many classes (i.e. instruments) are there per class?\n"
      ]
    },
    {
      "cell_type": "code",
      "execution_count": 8,
      "metadata": {
        "id": "Psbxz0mfnLaH",
        "colab": {
          "base_uri": "https://localhost:8080/"
        },
        "outputId": "ccff0f91-1a94-4c21-908c-2ca045663fe0"
      },
      "outputs": [
        {
          "output_type": "stream",
          "name": "stdout",
          "text": [
            "The number of training samples is:66247\n",
            "The number of features for each sample is:120\n",
            "The number of classes is:10\n"
          ]
        }
      ],
      "source": [
        "# TODO 3\n",
        "print(\"The number of training samples is:\" + str(Xtr.shape[0]))\n",
        "print(\"The number of features for each sample is:\" + str(Xtr.shape[1]))\n",
        "print(\"The number of classes is:\"+ str(len(np.unique(ytr))))"
      ]
    },
    {
      "cell_type": "markdown",
      "metadata": {
        "id": "F9b-cH-5nLaH"
      },
      "source": [
        "Before continuing, you must scale the training and test data, `Xtr` and `Xts`.  Compute the mean and std deviation of each feature in `Xtr` and create a new training data set, `Xtr_scale`, by subtracting the mean and dividing by the std deviation.  Also compute a scaled test data set, `Xts_scale` using the mean and std deviation learned from the training data set."
      ]
    },
    {
      "cell_type": "code",
      "execution_count": 9,
      "metadata": {
        "id": "sXnKLQ43nLaH"
      },
      "outputs": [],
      "source": [
        "# TODO 4: Scale the training and test matrices\n",
        "# Xtr_scale = ...\n",
        "# Xts_scale = ...\n",
        "Xtr_std=np.std(Xtr,axis=0)\n",
        "Xtr_mean=np.mean(Xtr,axis=0)\n",
        "Xtr_scale=(Xtr- Xtr_mean[None:,])/Xtr_std[None:,]\n",
        "Xts_scale=(Xts- Xtr_mean[None:,])/Xtr_std[None:,]\n",
        "\n"
      ]
    },
    {
      "cell_type": "markdown",
      "metadata": {
        "collapsed": true,
        "id": "8c_PMQmOnLaI"
      },
      "source": [
        "## Building a Neural Network Classifier\n",
        "\n",
        "Following the example in [MNIST neural network demo](./mnist_neural.ipynb), clear the keras session.  Then, create a neural network `model` with:\n",
        "* `nh=256` hidden units\n",
        "* `sigmoid` activation\n",
        "* select the input and output shapes correctly\n",
        "* print the model summary"
      ]
    },
    {
      "cell_type": "code",
      "execution_count": 10,
      "metadata": {
        "id": "pE1aynJQnLaI"
      },
      "outputs": [],
      "source": [
        "from tensorflow.keras.models import Model, Sequential\n",
        "from tensorflow.keras.layers import Dense, Activation\n",
        "import tensorflow.keras.backend as K\n"
      ]
    },
    {
      "cell_type": "code",
      "execution_count": 11,
      "metadata": {
        "id": "nACuKiyRnLaI"
      },
      "outputs": [],
      "source": [
        "# TODO 5 clear session\n",
        "K.clear_session()"
      ]
    },
    {
      "cell_type": "code",
      "execution_count": 12,
      "metadata": {
        "id": "9rw1w-95nLaI"
      },
      "outputs": [],
      "source": [
        "# TODO 6: construct the model\n",
        "nin = Xtr.shape[1]  # dimension of input data\n",
        "nh = 256     # number of hidden units\n",
        "nout = len(np.unique(ytr))   # number of outputs = 10 since there are 10 classes\n",
        "model = Sequential()\n",
        "model.add(Dense(units=nh, input_shape=(nin,), activation='sigmoid', name='hidden'))\n",
        "model.add(Dense(units=nout, activation='softmax', name='output'))"
      ]
    },
    {
      "cell_type": "code",
      "execution_count": 13,
      "metadata": {
        "id": "DxkIxWrhnLaI",
        "colab": {
          "base_uri": "https://localhost:8080/"
        },
        "outputId": "9d873a71-7b5c-4da5-8d17-ae2ffa9440d1"
      },
      "outputs": [
        {
          "output_type": "stream",
          "name": "stdout",
          "text": [
            "Model: \"sequential\"\n",
            "_________________________________________________________________\n",
            " Layer (type)                Output Shape              Param #   \n",
            "=================================================================\n",
            " hidden (Dense)              (None, 256)               30976     \n",
            "                                                                 \n",
            " output (Dense)              (None, 10)                2570      \n",
            "                                                                 \n",
            "=================================================================\n",
            "Total params: 33,546\n",
            "Trainable params: 33,546\n",
            "Non-trainable params: 0\n",
            "_________________________________________________________________\n"
          ]
        }
      ],
      "source": [
        "# TODO 7:  Print the model summary\n",
        "model.summary()"
      ]
    },
    {
      "cell_type": "markdown",
      "metadata": {
        "id": "tp06ZVA6nLaI"
      },
      "source": [
        "Create an optimizer and compile the model.  Select the appropriate loss function and metrics.  For the optimizer, use the Adam optimizer with a learning rate of 0.001"
      ]
    },
    {
      "cell_type": "code",
      "execution_count": 14,
      "metadata": {
        "scrolled": true,
        "id": "dfsfAllrnLaI",
        "colab": {
          "base_uri": "https://localhost:8080/"
        },
        "outputId": "8ccee50c-0c96-4eb7-857c-722f64ec2f9b"
      },
      "outputs": [
        {
          "output_type": "stream",
          "name": "stderr",
          "text": [
            "/usr/local/lib/python3.7/dist-packages/keras/optimizers/optimizer_v2/adam.py:110: UserWarning: The `lr` argument is deprecated, use `learning_rate` instead.\n",
            "  super(Adam, self).__init__(name, **kwargs)\n"
          ]
        }
      ],
      "source": [
        "# TODO 8\n",
        "# opt = ...\n",
        "# model.compile(...)\n",
        "from tensorflow.keras import optimizers\n",
        "\n",
        "opt = optimizers.Adam(lr=0.001) \n",
        "model.compile(optimizer=opt,\n",
        "              loss='sparse_categorical_crossentropy',\n",
        "              metrics=['accuracy'])"
      ]
    },
    {
      "cell_type": "markdown",
      "metadata": {
        "id": "1PBuO8XGnLaI"
      },
      "source": [
        "Fit the model for 10 epochs using the scaled data for both the training and validation.  Use the `validation_data` option to pass the test data.  Also, pass the callback class create above.  Use a batch size of 100.  Your final accuracy should be >99%."
      ]
    },
    {
      "cell_type": "code",
      "execution_count": 15,
      "metadata": {
        "scrolled": true,
        "id": "lDb4JjaonLaI",
        "colab": {
          "base_uri": "https://localhost:8080/"
        },
        "outputId": "fdb28c13-8d8b-4fd8-dd4d-1b0c72914fcd"
      },
      "outputs": [
        {
          "output_type": "stream",
          "name": "stdout",
          "text": [
            "Epoch 1/10\n",
            "663/663 [==============================] - 9s 12ms/step - loss: 0.3810 - accuracy: 0.8937 - val_loss: 0.2131 - val_accuracy: 0.9332\n",
            "Epoch 2/10\n",
            "663/663 [==============================] - 5s 8ms/step - loss: 0.1078 - accuracy: 0.9750 - val_loss: 0.1015 - val_accuracy: 0.9726\n",
            "Epoch 3/10\n",
            "663/663 [==============================] - 4s 6ms/step - loss: 0.0634 - accuracy: 0.9851 - val_loss: 0.0699 - val_accuracy: 0.9822\n",
            "Epoch 4/10\n",
            "663/663 [==============================] - 3s 4ms/step - loss: 0.0446 - accuracy: 0.9891 - val_loss: 0.0528 - val_accuracy: 0.9855\n",
            "Epoch 5/10\n",
            "663/663 [==============================] - 3s 4ms/step - loss: 0.0334 - accuracy: 0.9914 - val_loss: 0.0442 - val_accuracy: 0.9881\n",
            "Epoch 6/10\n",
            "663/663 [==============================] - 3s 4ms/step - loss: 0.0262 - accuracy: 0.9933 - val_loss: 0.0348 - val_accuracy: 0.9904\n",
            "Epoch 7/10\n",
            "663/663 [==============================] - 3s 4ms/step - loss: 0.0215 - accuracy: 0.9946 - val_loss: 0.0314 - val_accuracy: 0.9906\n",
            "Epoch 8/10\n",
            "663/663 [==============================] - 3s 4ms/step - loss: 0.0177 - accuracy: 0.9954 - val_loss: 0.0310 - val_accuracy: 0.9901\n",
            "Epoch 9/10\n",
            "663/663 [==============================] - 3s 4ms/step - loss: 0.0150 - accuracy: 0.9962 - val_loss: 0.0273 - val_accuracy: 0.9915\n",
            "Epoch 10/10\n",
            "663/663 [==============================] - 3s 4ms/step - loss: 0.0132 - accuracy: 0.9965 - val_loss: 0.0257 - val_accuracy: 0.9919\n"
          ]
        }
      ],
      "source": [
        "# TODO 9\n",
        "hist = model.fit(Xtr_scale, ytr, epochs=10, batch_size=100, validation_data=(Xts_scale,yts))"
      ]
    },
    {
      "cell_type": "markdown",
      "metadata": {
        "id": "quFaHLeOnLaJ"
      },
      "source": [
        "Plot the validation accuracy saved in `hist.history` dictionary. This gives one accuracy value per epoch.  You should see that the validation accuracy saturates at a little higher than 99%.  After that it \"bounces around\" due to the noise in the stochastic gradient descent."
      ]
    },
    {
      "cell_type": "code",
      "execution_count": 16,
      "metadata": {
        "id": "rdKoa5IvnLaJ",
        "colab": {
          "base_uri": "https://localhost:8080/",
          "height": 297
        },
        "outputId": "19f653a4-1a48-40e7-cb00-ce81f06da2fd"
      },
      "outputs": [
        {
          "output_type": "execute_result",
          "data": {
            "text/plain": [
              "Text(0, 0.5, 'accuarcy')"
            ]
          },
          "metadata": {},
          "execution_count": 16
        },
        {
          "output_type": "display_data",
          "data": {
            "text/plain": [
              "<Figure size 432x288 with 1 Axes>"
            ],
            "image/png": "[encoded data removed]"
          },
          "metadata": {
            "needs_background": "light"
          }
        }
      ],
      "source": [
        "# TODO 10\n",
        "#tr_accuracy = hist.history['accuracy']\n",
        "val_accuracy = hist.history['val_accuracy']\n",
        "\n",
        "#plt.plot(tr_accuracy)\n",
        "plt.plot(val_accuracy)\n",
        "plt.grid()\n",
        "plt.xlabel('epochs')\n",
        "plt.ylabel('accuarcy')\n",
        "#plt.legend(['training accuracy', 'validation accuracy'])"
      ]
    },
    {
      "cell_type": "markdown",
      "metadata": {
        "id": "LSY1c3r0nLaJ"
      },
      "source": [
        "Plot the loss values saved in the `hist.history` dictionary.  You should see that the loss is steadily decreasing.  Use the `semilogy` plot."
      ]
    },
    {
      "cell_type": "code",
      "execution_count": 17,
      "metadata": {
        "id": "qAPuzobHnLaJ",
        "colab": {
          "base_uri": "https://localhost:8080/",
          "height": 297
        },
        "outputId": "02e62198-f445-4feb-d0a6-0f8e7ebbc7f5"
      },
      "outputs": [
        {
          "output_type": "execute_result",
          "data": {
            "text/plain": [
              "Text(0, 0.5, 'loss')"
            ]
          },
          "metadata": {},
          "execution_count": 17
        },
        {
          "output_type": "display_data",
          "data": {
            "text/plain": [
              "<Figure size 432x288 with 1 Axes>"
            ],
            "image/png": "[encoded data removed]"
          },
          "metadata": {
            "needs_background": "light"
          }
        }
      ],
      "source": [
        "# TODO 11\n",
        "loss_values=hist.history['loss']\n",
        "plt.semilogy(loss_values)\n",
        "plt.grid() \n",
        "plt.xlabel('epochs')\n",
        "plt.ylabel('loss')\n"
      ]
    },
    {
      "cell_type": "markdown",
      "metadata": {
        "id": "iSOfo2KXnLaJ"
      },
      "source": [
        "## Optimizing the Learning Rate\n",
        "\n",
        "One challenge in training neural networks is the selection of the learning rate.  Rerun the above code, trying four learning rates as shown in the vector `rates`.  For each learning rate:\n",
        "* clear the session\n",
        "* construct the network\n",
        "* select the optimizer.  Use the Adam optimizer with the appropriate learrning rate.\n",
        "* train the model for 20 epochs\n",
        "* save the accuracy and losses"
      ]
    },
    {
      "cell_type": "code",
      "execution_count": 18,
      "metadata": {
        "id": "YCu1-l4_nLaJ"
      },
      "outputs": [],
      "source": [
        "rates = [0.01,0.001,0.0001]\n",
        "batch_size = 100\n",
        "loss_hist = []\n",
        "\n",
        "# TODO 12\n",
        "# for lr in rate:\n",
        "#    ...\n",
        "for lr in rates:\n",
        "  #clearing the session\n",
        "  K.clear_session()\n",
        "  #constructing the model\n",
        "  nin = Xtr.shape[1]  # dimension of input data\n",
        "  nh = 256     # number of hidden units\n",
        "  nout = len(np.unique(ytr))    # number of outputs = 10 since there are 10 classes\n",
        "  model = Sequential()\n",
        "  model.add(Dense(units=nh, input_shape=(nin,), activation='sigmoid', name='hidden'))\n",
        "  model.add(Dense(units=nout, activation='softmax', name='output'))\n",
        "  #selecting the optimizer\n",
        "  opt = optimizers.Adam(lr=lr) \n",
        "  model.compile(optimizer=opt,\n",
        "              loss='sparse_categorical_crossentropy',\n",
        "              metrics=['accuracy'])\n",
        "  #training the model\n",
        "  hist = model.fit(Xtr_scale, ytr, epochs=20, batch_size=100, validation_data=(Xts_scale,yts),verbose=0)\n",
        "  loss_hist.append(hist.history['loss'])\n",
        "  \n"
      ]
    },
    {
      "cell_type": "markdown",
      "metadata": {
        "id": "qin3pxRxnLaJ"
      },
      "source": [
        "Plot the loss funciton vs. the epoch number for all three learning rates on one graph.  You should see that the lower learning rates are more stable, but converge slower."
      ]
    },
    {
      "cell_type": "code",
      "execution_count": 19,
      "metadata": {
        "id": "N6qX3Xl4nLaJ",
        "colab": {
          "base_uri": "https://localhost:8080/",
          "height": 297
        },
        "outputId": "19f388a9-b804-4189-d849-69385e62b7c4"
      },
      "outputs": [
        {
          "output_type": "execute_result",
          "data": {
            "text/plain": [
              "<matplotlib.legend.Legend at 0x7fd9407b8450>"
            ]
          },
          "metadata": {},
          "execution_count": 19
        },
        {
          "output_type": "display_data",
          "data": {
            "text/plain": [
              "<Figure size 432x288 with 1 Axes>"
            ],
            "image/png": "[encoded data removed]"
          },
          "metadata": {
            "needs_background": "light"
          }
        }
      ],
      "source": [
        "# TODO 13\n",
        "#tr_accuracy = hist.history['accuracy']\n",
        "\n",
        "\n",
        "plt.plot(loss_hist[0])\n",
        "plt.plot(loss_hist[1])\n",
        "plt.plot(loss_hist[2])\n",
        "plt.grid()\n",
        "plt.xlabel('epochs')\n",
        "plt.ylabel('accuarcy')\n",
        "plt.legend(['0.01', '0.001','0.0001'])"
      ]
    },
    {
      "cell_type": "code",
      "execution_count": 19,
      "metadata": {
        "id": "z_n14C4cnLaJ"
      },
      "outputs": [],
      "source": []
    },
    {
      "cell_type": "code",
      "execution_count": 19,
      "metadata": {
        "id": "AgEV2SnknLaJ"
      },
      "outputs": [],
      "source": []
    }
  ],
  "metadata": {
    "anaconda-cloud": {},
    "kernelspec": {
      "display_name": "Python 3 (ipykernel)",
      "language": "python",
      "name": "python3"
    },
    "language_info": {
      "codemirror_mode": {
        "name": "ipython",
        "version": 3
      },
      "file_extension": ".py",
      "mimetype": "text/x-python",
      "name": "python",
      "nbconvert_exporter": "python",
      "pygments_lexer": "ipython3",
      "version": "3.9.12"
    },
    "colab": {
      "provenance": []
    }
  },
  "nbformat": 4,
  "nbformat_minor": 0
}